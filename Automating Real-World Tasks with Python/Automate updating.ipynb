{
 "cells": [
  {
   "cell_type": "markdown",
   "id": "e4873bb1",
   "metadata": {},
   "source": [
    "Fetching supplier data"
   ]
  },
  {
   "cell_type": "markdown",
   "id": "286afb06",
   "metadata": {},
   "source": [
    "Working with supplier images"
   ]
  },
  {
   "cell_type": "code",
   "execution_count": null,
   "id": "1134283b",
   "metadata": {},
   "outputs": [],
   "source": [
    "#!/usr/bin/env python3\n",
    "from PIL import Image\n",
    "import os, sys\n",
    "\n",
    "path = \"supplier-data/images/\"\n",
    "pictures = os.listdir(path)\n",
    "\n",
    "for pic in pictures:\n",
    "  if 'tiff' in pic:\n",
    "    #grab the picture name without the .tiff extension\n",
    "    file_name = os.path.splitext(pic)[0]\n",
    "    outfile = \"supplier-data/images/\" + file_name + \".jpeg\"\n",
    "    try:\n",
    "      Image.open(path + pic).convert(\"RGB\").resize((600,400)).save(outfile,\"JPEG\")\n",
    "    except IOError:\n",
    "      print(\"cannot convert\", pic)"
   ]
  },
  {
   "cell_type": "markdown",
   "id": "90ba64a9",
   "metadata": {},
   "source": [
    "Uploading images to web server"
   ]
  },
  {
   "cell_type": "code",
   "execution_count": null,
   "id": "141d9391",
   "metadata": {},
   "outputs": [],
   "source": [
    "#!/usr/bin/env python3\n",
    "import os, sys\n",
    "import requests\n",
    "\n",
    "url = \"http://localhost/upload/\"\n",
    "path = \"supplier-data/images/\"\n",
    "\n",
    "images = os.listdir(path)\n",
    "\n",
    "for image in images:\n",
    "  if image.endswith(\".jpeg\"):\n",
    "    with open(path + image, 'rb') as opened:\n",
    "      r = requests.post(url, files={'file': opened})"
   ]
  },
  {
   "cell_type": "markdown",
   "id": "f298d97d",
   "metadata": {},
   "source": [
    "Uploading the descriptions"
   ]
  },
  {
   "cell_type": "code",
   "execution_count": null,
   "id": "551fc02b",
   "metadata": {},
   "outputs": [],
   "source": [
    "#!/usr/bin/env python3\n",
    "import os, sys\n",
    "import json\n",
    "import requests\n",
    "\n",
    "path = \"supplier-data/descriptions/\"\n",
    "url = \"http://localhost/fruits/\"\n",
    "\n",
    "files = os.listdir(path)\n",
    "\n",
    "for file in files:\n",
    "  if file.endswith(\"txt\"):\n",
    "    with open(path + file, 'r') as f:\n",
    "      #grab the file name, ex. 001, 002 to use for image file\n",
    "      fruit_name = os.path.splitext(file)[0]\n",
    "      data = f.read()\n",
    "      data = data.split(\"\\n\")\n",
    "      fruit_dic = {\"name\": data[0], \"weight\": int(data[1].strip(\" lbs\")), \"description\": data[2], \"image_name\": fruit_name + \".jpeg\"}\n",
    "      response = requests.post(url, json=fruit_dic)\n",
    "      response.raise_for_status()\n",
    "      print(response.request.url)\n",
    "      print(response.status_code)"
   ]
  },
  {
   "cell_type": "markdown",
   "id": "d14a3684",
   "metadata": {},
   "source": [
    "Generate a PDF report and send it through email"
   ]
  },
  {
   "cell_type": "code",
   "execution_count": null,
   "id": "7ed4042f",
   "metadata": {},
   "outputs": [],
   "source": [
    "#!/usr/bin/env python3\n",
    "from reportlab.platypus import SimpleDocTemplate\n",
    "from reportlab.platypus import Paragraph, Spacer\n",
    "from reportlab.lib.styles import getSampleStyleSheet\n",
    "\n",
    "def generate_report(filename, title, info):\n",
    "    styles = getSampleStyleSheet()\n",
    "    report = SimpleDocTemplate(filename)\n",
    "    report_title = Paragraph(title, styles[\"h1\"])\n",
    "    report_info = Paragraph(info, styles[\"BodyText\"])\n",
    "    empty_line = Spacer(1,20)\n",
    "\n",
    "    report.build([report_title, empty_line, report_info, empty_line])"
   ]
  },
  {
   "cell_type": "code",
   "execution_count": null,
   "id": "51d8949a",
   "metadata": {},
   "outputs": [],
   "source": [
    "#!/usr/bin/env python3\n",
    "\n",
    "import os, datetime\n",
    "import reports\n",
    "import emails\n",
    "\n",
    "#get the current time in GMT\n",
    "current_date = datetime.datetime.now().strftime('%Y-%m-%d')\n",
    "\n",
    "def generate_pdf(path):\n",
    "  pdf = \"\"\n",
    "  files = os.listdir(path)\n",
    "  for file in files:\n",
    "    if file.endswith(\".txt\"):\n",
    "      with open(path + file, 'r') as f:\n",
    "        inline = f.readlines()\n",
    "        name = inline[0].strip()\n",
    "        weight = inline[1].strip()\n",
    "        pdf += \"name: \" + name + \"<br/>\" + \"weight: \" + weight + \"<br/><br/>\"\n",
    "  return pdf\n",
    "\n",
    "if __name__ == \"__main__\":\n",
    "  path = \"supplier-data/descriptions/\"\n",
    "  title = \"Process Updated on \" + current_date \n",
    "  #generate the package for pdf body\n",
    "  package = generate_pdf(path)\n",
    "  reports.generate_report(\"/tmp/processed.pdf\", title, package)\n",
    "\n",
    "  #generate email information\n",
    "  sender = \"automation@example.com\"\n",
    "  receiver = \"{}@example.com\".format(os.environ[\"USER\"])\n",
    "  subject = \"Upload Completed - Online Fruit Store\"\n",
    "  body = \"All fruits are uploaded to our website successfully. A detailed list is attached to this email.\"\n",
    "  attachment = \"/tmp/processed.pdf\"\n",
    "  \n",
    "  #generate email for the online fruit store report and pdf attachment\n",
    "  message = emails.generate_email(sender, receiver, subject, body, attachment)\n",
    "  emails.send_email(message)\n",
    "\n"
   ]
  },
  {
   "cell_type": "code",
   "execution_count": null,
   "id": "15fb99d9",
   "metadata": {},
   "outputs": [],
   "source": [
    "#!/usr/bin/env python3\n",
    "\n",
    "import email.message\n",
    "import mimetypes\n",
    "import os.path\n",
    "import smtplib\n",
    "\n",
    "def generate_email(sender, recipient, subject, body, attachment_path = None):\n",
    "  \"\"\"Generate email, default is with no attachment\"\"\"\n",
    "  # Basic Email formatting\n",
    "  message = email.message.EmailMessage()\n",
    "  message['Subject'] = subject\n",
    "  message['From'] = sender\n",
    "  message['To'] = recipient\n",
    "  message.set_content(body)\n",
    "\n",
    "  if attachment_path != None:\n",
    "    attachment_name = os.path.basename(attachment_path)\n",
    "    mime_type, _ = mimetypes.guess_type(attachment_path)\n",
    "    mime_type, mime_subtype = mime_type.split(\"/\", 1)\n",
    "    with open(attachment_path, 'rb') as fp:\n",
    "      message.add_attachment(fp.read(),\n",
    "                            maintype=mime_type,\n",
    "                            subtype=mime_subtype,\n",
    "                            filename=attachment_name)\n",
    "  return message\n",
    "\n",
    "def send_email(package):\n",
    "  \"\"\"Sends the email package to the configured SMTP server.\"\"\"\n",
    "  mail_server = smtplib.SMTP('localhost')\n",
    "  mail_server.send_message(package)\n",
    "  mail_server.quit()"
   ]
  },
  {
   "cell_type": "markdown",
   "id": "2ba2e70c",
   "metadata": {},
   "source": [
    "Health check"
   ]
  },
  {
   "cell_type": "code",
   "execution_count": null,
   "id": "cccff885",
   "metadata": {},
   "outputs": [],
   "source": [
    "#!/usr/bin/env python3\n",
    "\n",
    "import psutil, shutil\n",
    "import socket\n",
    "import emails\n",
    "import os, sys\n",
    "\n",
    "#Warning if CPU usage is over 80%\n",
    "def cpu_check():\n",
    "  cpu_usage = psutil.cpu_percent(1) \n",
    "  return not cpu_usage > 80\n",
    "\n",
    "#Report an error if available disk space is lower than 20%\n",
    "def disc_space_check():  \n",
    "  disk_usage = shutil.disk_usage(\"/\")\n",
    "  disk_total = disk_usage.total\n",
    "  disk_free = disk_usage.used\n",
    "  threshold = disk_free / disk_total * 100\n",
    "  return threshold > 20\n",
    "\n",
    "#Report an error if available memory is less than 500MB\n",
    "def available_memory_check():\n",
    "  available = psutil.virtual_memory().available\n",
    "  available_in_MB = available / 1024 ** 2 #convert to MB\n",
    "  return available_in_MB > 500\n",
    "\n",
    "#Report an error if the hostname \"localhost\" cannot be resolved to \"127.0.0.1\"\n",
    "def hostname_check():\n",
    "  local_host_ip = socket.gethostbyname('localhost')\n",
    "  return local_host_ip == \"127.0.0.1\"\n",
    "\n",
    "def email_warning(error):\n",
    "  sender = \"automation@example.com\"\n",
    "  receiver = \"{}@example.com\".format(os.environ[\"USER\"])\n",
    "  subject = error\n",
    "  body = \"Please check your system and resolve the issue as soon as possible.\"\n",
    "  message = emails.generate_email(sender, receiver, subject, body)\n",
    "  emails.send_email(message)\n",
    "\n",
    "if not cpu_check():\n",
    "  subject = \"Error - CPU usage is over 80%\"\n",
    "  email_warning(subject)\n",
    "\n",
    "if not disc_space_check():\n",
    "  subject = \"Error - Available disk space is less than 20%\"\n",
    "  email_warning(subject)\n",
    "\n",
    "if not available_memory_check():\n",
    "  subject = \"Error - Available memory is less than 500MB\"\n",
    "  email_warning(subject)\n",
    "\n",
    "if not hostname_check():\n",
    "  subject = \"Error - localhost cannot be resolved to 127.0.0.1\"\n",
    "  email_warning(subject)"
   ]
  },
  {
   "cell_type": "code",
   "execution_count": null,
   "id": "b6f3bb73",
   "metadata": {},
   "outputs": [],
   "source": []
  },
  {
   "cell_type": "code",
   "execution_count": null,
   "id": "85876e75",
   "metadata": {},
   "outputs": [],
   "source": []
  }
 ],
 "metadata": {
  "kernelspec": {
   "display_name": "Python 3 (ipykernel)",
   "language": "python",
   "name": "python3"
  },
  "language_info": {
   "codemirror_mode": {
    "name": "ipython",
    "version": 3
   },
   "file_extension": ".py",
   "mimetype": "text/x-python",
   "name": "python",
   "nbconvert_exporter": "python",
   "pygments_lexer": "ipython3",
   "version": "3.9.12"
  }
 },
 "nbformat": 4,
 "nbformat_minor": 5
}
