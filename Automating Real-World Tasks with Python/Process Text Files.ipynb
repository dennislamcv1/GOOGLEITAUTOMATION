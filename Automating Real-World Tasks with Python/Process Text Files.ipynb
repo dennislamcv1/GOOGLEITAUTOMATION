{
 "cells": [
  {
   "cell_type": "markdown",
   "id": "64a2a31b",
   "metadata": {},
   "source": [
    "Process text files and upload to running web server"
   ]
  },
  {
   "cell_type": "code",
   "execution_count": null,
   "id": "894cccee",
   "metadata": {},
   "outputs": [],
   "source": [
    "#! /usr/bin/env python3\n",
    "\n",
    "import os\n",
    "import requests\n",
    "from multiprocessing import Pool\n",
    "\n",
    "dr = \"/data/feedback/\"\n",
    "tasks = [i for i in os.walk(dr)][0][2]\n",
    "\n",
    "def run(task):\n",
    "    if not task.endswith(\".txt\"): return None\n",
    "    try:\n",
    "        file = dr + task\n",
    "        with open(file) as f:\n",
    "            text = [i.strip() for i in f.readlines()]\n",
    "        data = {\"title\": text[0], \"name\": text[1], \"date\": text[2], \"feedback\": text[3]}\n",
    "        req = requests.post(\"http://35.192.120.230/feedback/\", json=data)\n",
    "        req.raise_for_status()\n",
    "\n",
    "    except Exception as e:\n",
    "        print(task, e)\n",
    "\n",
    "p = Pool(len(tasks))\n",
    "p.map(run, tasks)"
   ]
  },
  {
   "cell_type": "markdown",
   "id": "c98c4f2e",
   "metadata": {},
   "source": [
    "Check results: http://35.192.120.230/"
   ]
  },
  {
   "cell_type": "code",
   "execution_count": null,
   "id": "42caf528",
   "metadata": {},
   "outputs": [],
   "source": []
  }
 ],
 "metadata": {
  "kernelspec": {
   "display_name": "Python 3 (ipykernel)",
   "language": "python",
   "name": "python3"
  },
  "language_info": {
   "codemirror_mode": {
    "name": "ipython",
    "version": 3
   },
   "file_extension": ".py",
   "mimetype": "text/x-python",
   "name": "python",
   "nbconvert_exporter": "python",
   "pygments_lexer": "ipython3",
   "version": "3.9.12"
  }
 },
 "nbformat": 4,
 "nbformat_minor": 5
}
