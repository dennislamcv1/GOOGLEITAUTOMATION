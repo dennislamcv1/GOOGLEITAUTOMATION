{
 "cells": [
  {
   "cell_type": "markdown",
   "id": "de3bfc81",
   "metadata": {},
   "source": [
    "Install Pillow"
   ]
  },
  {
   "cell_type": "markdown",
   "id": "cdcbaa0d",
   "metadata": {},
   "source": [
    "pip3 install pillow"
   ]
  },
  {
   "cell_type": "markdown",
   "id": "6aff6538",
   "metadata": {},
   "source": [
    "Write a Python script"
   ]
  },
  {
   "cell_type": "markdown",
   "id": "2188ba38",
   "metadata": {},
   "source": [
    "Create and Run in Images folder"
   ]
  },
  {
   "cell_type": "code",
   "execution_count": null,
   "id": "ba420be6",
   "metadata": {},
   "outputs": [],
   "source": [
    "#!/usr/bin/env python3\n",
    "\n",
    "import os\n",
    "import glob\n",
    "from PIL import Image\n",
    "\n",
    "for x in glob.glob(\"ic*\"):\n",
    "    new_image = Image.open(x).convert(\"RGB\")\n",
    "    new_image.rotate(270).resize((128,128)).save(\"/opt/icons/\" + x,\"JPEG\")"
   ]
  },
  {
   "cell_type": "code",
   "execution_count": null,
   "id": "705d9afb",
   "metadata": {},
   "outputs": [],
   "source": [
    "import PIL\n",
    "\n",
    "import os, sys\n",
    "\n",
    "from PIL import Image\n",
    "\n",
    "print (\"Hellow World\")\n",
    "\n",
    "dst=\"/opt/icons/\"\n",
    "\n",
    "src=\"/home/student-02-72dee0006be8/images/\"\n",
    "\n",
    "files_list= []\n",
    "\n",
    "for root, dirs, files in os.walk(src):\n",
    "\n",
    "        files_list=files\n",
    "\n",
    "for filename in files_list:\n",
    "\n",
    "        #print(\"file names:\"+str(filename))\n",
    "\n",
    "        infile  = os.path.join(src, filename)\n",
    "\n",
    "        outfile = os.path.join(dst, filename)\n",
    "\n",
    "        new_path='../opt/icons/'+filename\n",
    "\n",
    "        print(\"newpath: \"+ str(new_path))\n",
    "\n",
    "        try:\n",
    "\n",
    "                #with Image.open(infile) as im:\n",
    "\n",
    "                        im=Image.open(infile)\n",
    "\n",
    "                        print(\"file names:\"+ str(filename)+ \"size: \"+ str(im.size))\n",
    "\n",
    "                        im_new=im.rotate(90).resize((128,128)).convert(\"RGB\")\n",
    "\n",
    "                        im_new.save(outfile,'jpeg')"
   ]
  },
  {
   "cell_type": "code",
   "execution_count": null,
   "id": "622d4bc3",
   "metadata": {},
   "outputs": [],
   "source": []
  },
  {
   "cell_type": "code",
   "execution_count": null,
   "id": "c7cea954",
   "metadata": {},
   "outputs": [],
   "source": []
  }
 ],
 "metadata": {
  "kernelspec": {
   "display_name": "Python 3 (ipykernel)",
   "language": "python",
   "name": "python3"
  },
  "language_info": {
   "codemirror_mode": {
    "name": "ipython",
    "version": 3
   },
   "file_extension": ".py",
   "mimetype": "text/x-python",
   "name": "python",
   "nbconvert_exporter": "python",
   "pygments_lexer": "ipython3",
   "version": "3.9.12"
  }
 },
 "nbformat": 4,
 "nbformat_minor": 5
}
