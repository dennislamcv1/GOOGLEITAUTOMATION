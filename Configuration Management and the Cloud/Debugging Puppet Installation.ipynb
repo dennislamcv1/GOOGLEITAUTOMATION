{
 "cells": [
  {
   "cell_type": "markdown",
   "id": "8a6730a1",
   "metadata": {},
   "source": [
    "Issue detection"
   ]
  },
  {
   "cell_type": "code",
   "execution_count": null,
   "id": "493d4bc2",
   "metadata": {},
   "outputs": [],
   "source": [
    "class profile {\n",
    "        file { '/etc/profile.d/append-path.sh':\n",
    "                owner   => 'root',\n",
    "                group   => 'root',\n",
    "                mode    => '0646',\n",
    "                content => \"PATH=/java/bin\\n\",\n",
    "        }\n",
    "}\n"
   ]
  },
  {
   "cell_type": "markdown",
   "id": "59449782",
   "metadata": {},
   "source": [
    "Fixing the problem"
   ]
  },
  {
   "cell_type": "code",
   "execution_count": null,
   "id": "f8035ca6",
   "metadata": {},
   "outputs": [],
   "source": [
    "class profile {\n",
    "        file { '/etc/profile.d/append-path.sh':\n",
    "                owner   => 'root',\n",
    "                group   => 'root',\n",
    "                mode    => '0646',\n",
    "                content => \"PATH=\\$PATH:/java/bin\\n\",\n",
    "        }\n",
    "}\n"
   ]
  },
  {
   "cell_type": "code",
   "execution_count": null,
   "id": "90f07f8e",
   "metadata": {},
   "outputs": [],
   "source": []
  }
 ],
 "metadata": {
  "kernelspec": {
   "display_name": "Python 3 (ipykernel)",
   "language": "python",
   "name": "python3"
  },
  "language_info": {
   "codemirror_mode": {
    "name": "ipython",
    "version": 3
   },
   "file_extension": ".py",
   "mimetype": "text/x-python",
   "name": "python",
   "nbconvert_exporter": "python",
   "pygments_lexer": "ipython3",
   "version": "3.9.12"
  }
 },
 "nbformat": 4,
 "nbformat_minor": 5
}
