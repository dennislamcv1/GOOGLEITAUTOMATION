{
 "cells": [
  {
   "cell_type": "markdown",
   "id": "0879a2da",
   "metadata": {},
   "source": [
    "Install packages"
   ]
  },
  {
   "cell_type": "code",
   "execution_count": null,
   "id": "389e726e",
   "metadata": {},
   "outputs": [],
   "source": [
    "sudo nano manifests/init.pp"
   ]
  },
  {
   "cell_type": "code",
   "execution_count": null,
   "id": "c57b3f1b",
   "metadata": {},
   "outputs": [],
   "source": [
    "class packages {\n",
    "   package { 'python-requests':\n",
    "       ensure => installed,\n",
    "   }\n",
    "   if $facts[os][family] == \"Debian\" {\n",
    "     package { 'golang':\n",
    "       ensure => installed,\n",
    "     }\n",
    "  }\n",
    "   if $facts[os][family] == \"RedHat\" {\n",
    "     package { 'nodejs':\n",
    "       ensure => installed,\n",
    "     }\n",
    "  }\n",
    "}"
   ]
  },
  {
   "cell_type": "code",
   "execution_count": null,
   "id": "abbb9d66",
   "metadata": {},
   "outputs": [],
   "source": [
    "Copy the linux-instance external IP address: 34.134.211.225"
   ]
  },
  {
   "cell_type": "markdown",
   "id": "93bb5e80",
   "metadata": {},
   "source": [
    "Fetch machine information"
   ]
  },
  {
   "cell_type": "code",
   "execution_count": null,
   "id": "8513b733",
   "metadata": {},
   "outputs": [],
   "source": [
    "sudo nano manifests/init.pp"
   ]
  },
  {
   "cell_type": "code",
   "execution_count": null,
   "id": "f3264827",
   "metadata": {},
   "outputs": [],
   "source": [
    "class machine_info {\n",
    "  if $facts[kernel] == \"windows\" {\n",
    "       $info_path = \"C:\\Windows\\Temp\\Machine_Info.txt\"\n",
    "   } else {\n",
    "       $info_path = \"/tmp/machine_info.txt\"\n",
    "   }\n",
    " file { 'machine_info':\n",
    "       path => $info_path,\n",
    "       content => template('machine_info/info.erb'),\n",
    "   }\n",
    "}"
   ]
  },
  {
   "cell_type": "code",
   "execution_count": null,
   "id": "57ae9a18",
   "metadata": {},
   "outputs": [],
   "source": [
    "sudo nano templates/info.erb"
   ]
  },
  {
   "cell_type": "code",
   "execution_count": null,
   "id": "72a950de",
   "metadata": {},
   "outputs": [],
   "source": [
    "Machine Information\n",
    "-------------------\n",
    "Disks: <%= @disks %>\n",
    "Memory: <%= @memory %>\n",
    "Processors: <%= @processors %>\n",
    "Network Interfaces: <%= @interfaces %>\n",
    "}"
   ]
  },
  {
   "cell_type": "markdown",
   "id": "a21c3ad8",
   "metadata": {},
   "source": [
    "Reboot machine"
   ]
  },
  {
   "cell_type": "code",
   "execution_count": null,
   "id": "3a018eb1",
   "metadata": {},
   "outputs": [],
   "source": [
    "sudo nano init.pp"
   ]
  },
  {
   "cell_type": "code",
   "execution_count": null,
   "id": "7a91770e",
   "metadata": {},
   "outputs": [],
   "source": [
    "class reboot {\n",
    "  if $facts[kernel] == \"windows\" {\n",
    "    $cmd = \"shutdown /r\"\n",
    "  } elsif $facts[kernel] == \"Darwin\" {\n",
    "    $cmd = \"shutdown -r now\"\n",
    "  } else {\n",
    "    $cmd = \"reboot\"\n",
    "  }\n",
    "}"
   ]
  },
  {
   "cell_type": "code",
   "execution_count": null,
   "id": "40a77539",
   "metadata": {},
   "outputs": [],
   "source": [
    "sudo nano /etc/puppet/code/environments/production/manifests/site.pp"
   ]
  },
  {
   "cell_type": "code",
   "execution_count": null,
   "id": "2cbd7e0b",
   "metadata": {},
   "outputs": [],
   "source": [
    "node default {\n",
    "   class { 'packages': }\n",
    "   class { 'machine_info': }\n",
    "   class { 'reboot': }\n",
    "}"
   ]
  },
  {
   "cell_type": "code",
   "execution_count": null,
   "id": "d1cdc2fc",
   "metadata": {},
   "outputs": [],
   "source": []
  }
 ],
 "metadata": {
  "kernelspec": {
   "display_name": "Python 3 (ipykernel)",
   "language": "python",
   "name": "python3"
  },
  "language_info": {
   "codemirror_mode": {
    "name": "ipython",
    "version": 3
   },
   "file_extension": ".py",
   "mimetype": "text/x-python",
   "name": "python",
   "nbconvert_exporter": "python",
   "pygments_lexer": "ipython3",
   "version": "3.9.12"
  }
 },
 "nbformat": 4,
 "nbformat_minor": 5
}
