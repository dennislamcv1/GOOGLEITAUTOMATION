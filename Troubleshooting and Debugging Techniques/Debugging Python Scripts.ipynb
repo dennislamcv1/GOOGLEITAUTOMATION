{
 "cells": [
  {
   "cell_type": "markdown",
   "id": "eb5f1e7b",
   "metadata": {},
   "source": [
    "Debug the issue"
   ]
  },
  {
   "cell_type": "code",
   "execution_count": null,
   "id": "be252d88",
   "metadata": {},
   "outputs": [],
   "source": [
    "#!/usr/bin/env python3\n",
    "\n",
    "import random\n",
    "\n",
    "def greeting():\n",
    "  name = input(\"Hello!, What's your name?\")\n",
    "  number = random.randint(1,101)\n",
    "  print(\"hello \" + name + \", your random number is \" + str(number))\n",
    "\n",
    "greeting()\n",
    "\n"
   ]
  },
  {
   "cell_type": "code",
   "execution_count": null,
   "id": "86ed15e5",
   "metadata": {},
   "outputs": [],
   "source": []
  }
 ],
 "metadata": {
  "kernelspec": {
   "display_name": "Python 3 (ipykernel)",
   "language": "python",
   "name": "python3"
  },
  "language_info": {
   "codemirror_mode": {
    "name": "ipython",
    "version": 3
   },
   "file_extension": ".py",
   "mimetype": "text/x-python",
   "name": "python",
   "nbconvert_exporter": "python",
   "pygments_lexer": "ipython3",
   "version": "3.9.12"
  }
 },
 "nbformat": 4,
 "nbformat_minor": 5
}
