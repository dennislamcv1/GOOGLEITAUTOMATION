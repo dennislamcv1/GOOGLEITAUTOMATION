{
 "cells": [
  {
   "cell_type": "markdown",
   "id": "fd501bd2",
   "metadata": {},
   "source": [
    "Debug issue"
   ]
  },
  {
   "cell_type": "code",
   "execution_count": null,
   "id": "1bed0c52",
   "metadata": {},
   "outputs": [],
   "source": [
    "#!/usr/bin/env python3\n",
    "\n",
    "\n",
    "import csv\n",
    "import datetime\n",
    "import requests\n",
    "\n",
    "\n",
    "FILE_URL = \"https://storage.googleapis.com/gwg-content/gic215/employees-with-date.csv\"\n",
    "\n",
    "def get_start_date():\n",
    "    \"\"\"Interactively get the start date to query for.\"\"\"\n",
    "\n",
    "    print()\n",
    "    print('Getting the first start date to query for.')\n",
    "    print()\n",
    "    print('The date must be greater than Jan 1st, 2018')\n",
    "    year = int(input('Enter a value for the year: '))\n",
    "    month = int(input('Enter a value for the month: '))\n",
    "    day = int(input('Enter a value for the day: '))\n",
    "    print()\n",
    "\n",
    "    return datetime.datetime(year, month, day)"
   ]
  },
  {
   "cell_type": "markdown",
   "id": "878bb865",
   "metadata": {},
   "source": [
    "Improve performance"
   ]
  },
  {
   "cell_type": "code",
   "execution_count": null,
   "id": "1f246f86",
   "metadata": {},
   "outputs": [],
   "source": [
    "#!/usr/bin/env python3\n",
    "import csv\n",
    "import datetime\n",
    "import requests\n",
    "\n",
    "FILE_URL=\"http://marga.com.ar/employees-with-date.csv\"\n",
    "\n",
    "def get_start_date():\n",
    "    \"\"\"Interactively get the start date to query for.\"\"\"\n",
    "\n",
    "    print()\n",
    "    print('Getting the first start date to query for.')\n",
    "    print()\n",
    "    print('The date must be greater than Jan 1st, 2018')\n",
    "    year = int(input('Enter a value for the year: '))\n",
    "    month = int(input('Enter a value for the month: '))\n",
    "    day = int(input('Enter a value for the day: '))\n",
    "    print()\n",
    "\n",
    "    return datetime.datetime(year, month, day)\n",
    "\n",
    "def get_file_lines(url):\n",
    "    \"\"\"Returns the lines contained in the file at the given URL\"\"\"\n",
    "\n",
    "    # Download the file over the internet\n",
    "    response = requests.get(url, stream=True)\n",
    "\n",
    "    # Decode all lines into strings\n",
    "    lines = []\n",
    "    for line in response.iter_lines():\n",
    "        lines.append(line.decode(\"UTF-8\"))\n",
    "    return lines\n",
    "\n",
    "def get_same_or_newer(start_date, data):\n",
    "\n",
    "    reader = csv.reader(data[1:])\n",
    "\n",
    "    min_date = datetime.datetime.today()\n",
    "    min_date_employees = []\n",
    "    for row in reader:\n",
    "        row_date = datetime.datetime.strptime(row[3], '%Y-%m-%d')\n",
    "\n",
    "        if row_date < start_date:\n",
    "            continue\n",
    "\n",
    "        if row_date < min_date:\n",
    "            min_date = row_date\n",
    "            min_date_employees = []\n",
    "\n",
    "        if row_date == min_date:\n",
    "            min_date_employees.append(\"{} {}\".format(row[0], row[1]))\n",
    "\n",
    "    return min_date, min_date_employees\n",
    "\n",
    "def list_newer(start_date, data):\n",
    "    while start_date < datetime.datetime.today():\n",
    "        start_date, employees = get_same_or_newer(start_date, data)\n",
    "        print(\"Started on {}: {}\".format(start_date.strftime(\"%b %d, %Y\"), employees))\n",
    "\n",
    "        # Now move the date to the next one\n",
    "        start_date = start_date + datetime.timedelta(days=1)\n",
    "\n",
    "def main():\n",
    "    data = get_file_lines(FILE_URL) #Download only once at start\n",
    "    start_date = get_start_date() #get the date\n",
    "    list_newer(start_date, data) #send the date and file\n",
    "\n",
    "if __name__ == \"__main__\":\n",
    "    main()"
   ]
  },
  {
   "cell_type": "code",
   "execution_count": null,
   "id": "56726a5f",
   "metadata": {},
   "outputs": [],
   "source": []
  },
  {
   "cell_type": "code",
   "execution_count": null,
   "id": "e06fcfa8",
   "metadata": {},
   "outputs": [],
   "source": []
  }
 ],
 "metadata": {
  "kernelspec": {
   "display_name": "Python 3 (ipykernel)",
   "language": "python",
   "name": "python3"
  },
  "language_info": {
   "codemirror_mode": {
    "name": "ipython",
    "version": 3
   },
   "file_extension": ".py",
   "mimetype": "text/x-python",
   "name": "python",
   "nbconvert_exporter": "python",
   "pygments_lexer": "ipython3",
   "version": "3.9.12"
  }
 },
 "nbformat": 4,
 "nbformat_minor": 5
}
