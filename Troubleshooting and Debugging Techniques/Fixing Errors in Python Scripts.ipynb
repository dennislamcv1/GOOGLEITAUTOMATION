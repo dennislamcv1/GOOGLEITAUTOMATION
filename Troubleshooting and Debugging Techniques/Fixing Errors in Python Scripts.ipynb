{
 "cells": [
  {
   "cell_type": "markdown",
   "id": "3fda6ac3",
   "metadata": {},
   "source": [
    "ImportError"
   ]
  },
  {
   "cell_type": "markdown",
   "id": "6f38c080",
   "metadata": {},
   "source": [
    "pip3 install matplotlib"
   ]
  },
  {
   "cell_type": "markdown",
   "id": "f8552c79",
   "metadata": {},
   "source": [
    "NoFileError"
   ]
  },
  {
   "cell_type": "markdown",
   "id": "945cb8c0",
   "metadata": {},
   "source": [
    "mv data.bak data.csv"
   ]
  },
  {
   "cell_type": "markdown",
   "id": "1ad58422",
   "metadata": {},
   "source": [
    "MissingColumnError"
   ]
  },
  {
   "cell_type": "markdown",
   "id": "2c92cbf7",
   "metadata": {},
   "source": [
    "firstname,surname,company,job title\n"
   ]
  },
  {
   "cell_type": "code",
   "execution_count": null,
   "id": "6852fbb7",
   "metadata": {},
   "outputs": [],
   "source": []
  }
 ],
 "metadata": {
  "kernelspec": {
   "display_name": "Python 3 (ipykernel)",
   "language": "python",
   "name": "python3"
  },
  "language_info": {
   "codemirror_mode": {
    "name": "ipython",
    "version": 3
   },
   "file_extension": ".py",
   "mimetype": "text/x-python",
   "name": "python",
   "nbconvert_exporter": "python",
   "pygments_lexer": "ipython3",
   "version": "3.9.12"
  }
 },
 "nbformat": 4,
 "nbformat_minor": 5
}
