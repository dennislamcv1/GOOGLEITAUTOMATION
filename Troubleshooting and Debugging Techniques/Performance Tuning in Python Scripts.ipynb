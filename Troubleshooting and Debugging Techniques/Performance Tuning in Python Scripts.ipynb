{
 "cells": [
  {
   "cell_type": "markdown",
   "id": "eea75062",
   "metadata": {},
   "source": [
    "Multiprocessing"
   ]
  },
  {
   "cell_type": "code",
   "execution_count": null,
   "id": "be6c33a4",
   "metadata": {},
   "outputs": [],
   "source": [
    "#!/usr/bin/env python3 \n",
    "from multiprocessing import Pool\n",
    "import multiprocessing \n",
    "import subprocess \n",
    "import os src = \"data/prod/\" \n",
    "dest = \"data/prod_backup/\" \n",
    "if __name__ == \"__main__\": \n",
    "    pool = Pool(multiprocessing.cpu_count()) \n",
    "    pool.apply(subprocess.call, args=([\"rsync\", \"-arq\", src, dest],)) "
   ]
  },
  {
   "cell_type": "markdown",
   "id": "9ad94e31",
   "metadata": {},
   "source": [
    "User exercise"
   ]
  },
  {
   "cell_type": "code",
   "execution_count": null,
   "id": "2c9b09c6",
   "metadata": {},
   "outputs": [],
   "source": [
    "#!/usr/bin/env python3 \n",
    "from multiprocessing import Pool \n",
    "import multiprocessing \n",
    "import subprocess \n",
    "import os \n",
    "home_path = os.path.expanduser('~') \n",
    "src = home_path + \"/data/prod/\" \n",
    "dest = home_path + \"/data/prod_backup/\" \n",
    "if __name__ == \"__main__\": \n",
    "    pool = Pool(multiprocessing.cpu_count()) \n",
    "    pool.apply(subprocess.call, args=([\"rsync\", \"-arq\", src, dest],))\n"
   ]
  }
 ],
 "metadata": {
  "kernelspec": {
   "display_name": "Python 3 (ipykernel)",
   "language": "python",
   "name": "python3"
  },
  "language_info": {
   "codemirror_mode": {
    "name": "ipython",
    "version": 3
   },
   "file_extension": ".py",
   "mimetype": "text/x-python",
   "name": "python",
   "nbconvert_exporter": "python",
   "pygments_lexer": "ipython3",
   "version": "3.9.12"
  }
 },
 "nbformat": 4,
 "nbformat_minor": 5
}
