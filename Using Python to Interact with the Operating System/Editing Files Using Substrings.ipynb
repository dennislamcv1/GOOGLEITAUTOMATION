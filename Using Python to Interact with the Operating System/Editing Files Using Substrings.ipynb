{
 "cells": [
  {
   "cell_type": "markdown",
   "id": "fb7d824e",
   "metadata": {},
   "source": [
    "Find files using bash script"
   ]
  },
  {
   "cell_type": "code",
   "execution_count": null,
   "id": "07b18980",
   "metadata": {},
   "outputs": [],
   "source": [
    "#!/bin/bash\n",
    "> oldFiles.txt\n",
    "files=$(grep \" jane \" ../data/list.txt | cut -d' ' -f3)\n",
    "for f in $files; do \n",
    "  if [ -e $HOME$f ]; then\n",
    "    echo $HOME$f >> oldFiles.txt;\n",
    "  fi\n",
    "done"
   ]
  },
  {
   "cell_type": "markdown",
   "id": "c11f587e",
   "metadata": {},
   "source": [
    "Rename files using Python script"
   ]
  },
  {
   "cell_type": "code",
   "execution_count": null,
   "id": "30f71862",
   "metadata": {},
   "outputs": [],
   "source": [
    "#!/usr/bin/env python3\n",
    "import sys\n",
    "import subprocess\n",
    "\n",
    "f = open(sys.argv[1], \"r\")\n",
    "for line in f.readlines():\n",
    "  old_name = line.strip()\n",
    "  new_name = old_name.replace(\"jane\", \"jdoe\")\n",
    "  subprocess.run([\"mv\", old_name, new_name])\n",
    "f.close()\n"
   ]
  },
  {
   "cell_type": "code",
   "execution_count": null,
   "id": "fc005ce5",
   "metadata": {},
   "outputs": [],
   "source": []
  },
  {
   "cell_type": "code",
   "execution_count": null,
   "id": "daaa2c1b",
   "metadata": {},
   "outputs": [],
   "source": []
  }
 ],
 "metadata": {
  "kernelspec": {
   "display_name": "Python 3 (ipykernel)",
   "language": "python",
   "name": "python3"
  },
  "language_info": {
   "codemirror_mode": {
    "name": "ipython",
    "version": 3
   },
   "file_extension": ".py",
   "mimetype": "text/x-python",
   "name": "python",
   "nbconvert_exporter": "python",
   "pygments_lexer": "ipython3",
   "version": "3.9.12"
  }
 },
 "nbformat": 4,
 "nbformat_minor": 5
}
