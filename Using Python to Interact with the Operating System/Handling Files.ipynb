{
 "cells": [
  {
   "cell_type": "markdown",
   "id": "39150117",
   "metadata": {},
   "source": [
    "Convert employee data to dictionary"
   ]
  },
  {
   "cell_type": "code",
   "execution_count": null,
   "id": "9b8bb67e",
   "metadata": {},
   "outputs": [],
   "source": [
    "#!/usr/bin/env python3\n",
    "import csv\n",
    "def read_employees(csv_file_location):\n",
    "    csv.register_dialect('empDialect', skipinitialspace=True, strict=True)\n",
    "    employee_file = csv.DictReader(open(csv_file_location), dialect = 'empDialect')\n",
    "    employee_list = []\n",
    "    for data in employee_file:\n",
    "        employee_list.append(data)\n",
    "    return employee_list\n",
    "\n",
    "employee_list = read_employees('/home/student-03-f70d94aa8422/data/employees.csv')\n",
    "\n",
    "print(employee_list)"
   ]
  },
  {
   "cell_type": "markdown",
   "id": "58e02031",
   "metadata": {},
   "source": [
    "Process employee data"
   ]
  },
  {
   "cell_type": "code",
   "execution_count": null,
   "id": "a317603c",
   "metadata": {},
   "outputs": [],
   "source": [
    "#!/usr/bin/env python3\n",
    "import csv\n",
    "def read_employees(csv_file_location):\n",
    "    csv.register_dialect('empDialect', skipinitialspace=True, strict=True)\n",
    "    employee_file = csv.DictReader(open(csv_file_location), dialect = 'empDialect')\n",
    "    employee_list = []\n",
    "    for data in employee_file:\n",
    "        employee_list.append(data)\n",
    "    return employee_list\n",
    "\n",
    "employee_list = read_employees('/home/student-01-7ae3abd56cd7/data/employees.csv')\n",
    "print(employee_list)\n",
    "def process_data(employee_list):\n",
    "    department_list = []\n",
    "    for employee_data in employee_list:\n",
    "        department_list.append(employee_data['Department'])\n",
    "\n",
    "    department_data = {}\n",
    "    for department_name in set(department_list):\n",
    "        department_data[department_name] = department_list.count(department_name)\n",
    "    return department_data\n",
    "\n",
    "dictionary = process_data(employee_list)\n",
    "print(dictionary)"
   ]
  },
  {
   "cell_type": "markdown",
   "id": "e09d99cd",
   "metadata": {},
   "source": [
    "Generate a report"
   ]
  },
  {
   "cell_type": "code",
   "execution_count": null,
   "id": "facfbce6",
   "metadata": {},
   "outputs": [],
   "source": [
    "#!/usr/bin/env python3\n",
    "import csv\n",
    "def read_employees(csv_file_location):\n",
    "    csv.register_dialect('empDialect', skipinitialspace=True, strict=True)\n",
    "    employee_file = csv.DictReader(open(csv_file_location), dialect = 'empDialect')\n",
    "    employee_list = []\n",
    "    for data in employee_file:\n",
    "        employee_list.append(data)\n",
    "    return employee_list\n",
    "\n",
    "employee_list = read_employees('/home/student-01-7ae3abd56cd7/data/employees.csv')\n",
    "\n",
    "def process_data(employee_list):\n",
    "    department_list = []\n",
    "    for employee_data in employee_list:\n",
    "        department_list.append(employee_data['Department'])\n",
    "\n",
    "    department_data = {}\n",
    "    for department_name in set(department_list):\n",
    "        department_data[department_name] = department_list.count(department_name)\n",
    "    return department_data\n",
    "\n",
    "dictionary = process_data(employee_list)\n",
    "\n",
    "def write_report(dictionary, report_file):\n",
    "    with open(report_file, \"w+\") as f:\n",
    "        for k in sorted(dictionary):\n",
    "            f.write(str(k)+':'+str(dictionary[k])+'\\n')\n",
    "    f.close()\n",
    "\n",
    "write_report(dictionary, '/home/student-01-7ae3abd56cd7/test_report.txt')"
   ]
  }
 ],
 "metadata": {
  "kernelspec": {
   "display_name": "Python 3 (ipykernel)",
   "language": "python",
   "name": "python3"
  },
  "language_info": {
   "codemirror_mode": {
    "name": "ipython",
    "version": 3
   },
   "file_extension": ".py",
   "mimetype": "text/x-python",
   "name": "python",
   "nbconvert_exporter": "python",
   "pygments_lexer": "ipython3",
   "version": "3.9.12"
  }
 },
 "nbformat": 4,
 "nbformat_minor": 5
}
