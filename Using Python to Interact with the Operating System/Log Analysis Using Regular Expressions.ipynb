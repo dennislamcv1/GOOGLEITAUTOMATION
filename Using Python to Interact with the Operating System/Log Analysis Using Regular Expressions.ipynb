{
 "cells": [
  {
   "cell_type": "markdown",
   "id": "6b907386",
   "metadata": {},
   "source": [
    "Exercise - 3"
   ]
  },
  {
   "cell_type": "code",
   "execution_count": null,
   "id": "93f4f9f5",
   "metadata": {},
   "outputs": [],
   "source": [
    "Full Name, Email Address\n",
    "Blossom Gill, blossom@abc.edu\n",
    "Hayes Delgado, nonummy@utnisia.com\n",
    "Petra Jones, ac@abc.edu\n",
    "Oleg Noel, noel@liberomauris.ca\n",
    "Ahmed Miller, ahmed.miller@nequenonquam.co.uk\n",
    "Macaulay Douglas, mdouglas@abc.edu\n",
    "Aurora Grant, enim.non@abc.edu\n",
    "Madison Mcintosh, mcintosh@nisiaenean.net\n",
    "Montana Powell, montanap@semmagna.org\n",
    "Rogan Robinson, rr.robinson@abc.edu\n",
    "Simon Rivera, sri@abc.edu\n",
    "Benedict Pacheco, bpacheco@abc.edu\n",
    "Maisie Hendrix, mai.hendrix@abc.edu\n",
    "Xaviera Gould, xlg@utnisia.net\n",
    "Oren Rollins, oren@semmagna.com\n",
    "Flavia Santiago, flavia@utnisia.net\n",
    "Jackson Owens, jackowens@abc.edu\n",
    "Britanni Humphrey, britanni@ut.net\n",
    "Kirk Nixon, kirknixon@abc.edu\n",
    "Bree Campbell, breee@utnisia.net"
   ]
  },
  {
   "cell_type": "markdown",
   "id": "3127f6bf",
   "metadata": {},
   "source": [
    "sudo apt-get install apache2 -y"
   ]
  },
  {
   "cell_type": "markdown",
   "id": "edcf8b20",
   "metadata": {},
   "source": [
    "./csv_to_html.py user_emails.csv /var/www/html/user_emails.html"
   ]
  },
  {
   "cell_type": "markdown",
   "id": "06acd65e",
   "metadata": {},
   "source": [
    "http://34.123.144.59/user_emails.html"
   ]
  },
  {
   "cell_type": "markdown",
   "id": "5f8d1ff9",
   "metadata": {},
   "source": [
    "Generate reports"
   ]
  },
  {
   "cell_type": "markdown",
   "id": "d762ea5a",
   "metadata": {},
   "source": [
    "you need finish Exercise - 3 and name html file as user_emails.html\n",
    "\n",
    "you need name html files as error_message.html and user_statistics.html"
   ]
  },
  {
   "cell_type": "code",
   "execution_count": null,
   "id": "e141adfc",
   "metadata": {},
   "outputs": [],
   "source": [
    "#!/usr/bin/env python3\n",
    "import re\n",
    "import csv\n",
    "import operator\n",
    "import sys\n",
    "\n",
    "per_user = {}\n",
    "errors = {}\n",
    "\n",
    "logfile = 'syslog.log'\n",
    "f = open(logfile, 'r')\n",
    "\n",
    "errorfile = 'error_message.csv'\n",
    "userfile = 'user_statistics.csv'\n",
    "\n",
    "for log in f:\n",
    "        result = re.search(r\"ticky: ([\\w+]*):? ([\\w' ]*) [\\[[0-9#]*\\]?]? ?\\((.*)\\)$\", log)\n",
    "        if result.group(2) not in errors.keys():\n",
    "                errors[result.group(2)] = 0\n",
    "        errors[result.group(2)] += 1\n",
    "        if result.group(3) not in per_user.keys():\n",
    "                per_user[result.group(3)] = {}\n",
    "                per_user[result.group(3)][\"INFO\"] = 0\n",
    "                per_user[result.group(3)][\"ERROR\"] = 0\n",
    "\n",
    "        if result.group(1) == \"INFO\":\n",
    "                per_user[result.group(3)][\"INFO\"] += 1\n",
    "        elif result.group(1) == \"ERROR\":\n",
    "                per_user[result.group(3)][\"ERROR\"] += 1\n",
    "\n",
    "errors = sorted(errors.items(), key = operator.itemgetter(1), reverse = True)\n",
    "per_user = sorted(per_user.items())\n",
    "\n",
    "f.close()\n",
    "errors.insert(0, ('Error', 'Count'))\n",
    "\n",
    "f = open(errorfile, 'w')\n",
    "for error in errors:\n",
    "        a,b = error\n",
    "        f.write(str(a)+','+str(b)+'\\n')\n",
    "f.close()\n",
    "\n",
    "f = open(userfile, 'w')\n",
    "f.write(\"Username,INFO,ERROR\\n\")\n",
    "for stats in per_user:\n",
    "        a, b = stats\n",
    "        f.write(str(a)+','+str(b[\"INFO\"])+','+str(b[\"ERROR\"])+'\\n')\n",
    "\n"
   ]
  },
  {
   "cell_type": "code",
   "execution_count": null,
   "id": "f3dbdfb9",
   "metadata": {},
   "outputs": [],
   "source": [
    "#!/usr/bin/env python3\n",
    "'''\n",
    "Before you dig into Exercise 3, run this command in the shell\n",
    "(not in python):\n",
    "sudo apt-get install apache2 -y\n",
    " \n",
    "When calling ticky_check, the  filepath has to be passed.\n",
    "Mine looked like this:\n",
    "./ticky_check.py /home/student-01-a297e7359c16/syslog.log\n",
    " \n",
    "Remember to chmod +x the script after you save it (and before \n",
    "you execute it).\n",
    " \n",
    "Also, at the end of Ex. 3, name html files as\n",
    "error_message.html   and    user_statistics.html\n",
    " \n",
    "sudo chmod +x csv_to_html.py  (done already)\n",
    " \n",
    "'''\n",
    " \n",
    "import sys\n",
    "import re\n",
    "import csv\n",
    "import itertools\n",
    "import operator\n",
    " \n",
    "def statistics(logfile):\n",
    " \n",
    "  per_user = {}\n",
    "  error = {}\n",
    " \n",
    "  with open(logfile, \"r\") as file:\n",
    "    for line in file.readlines():\n",
    "      pattern = r\": ([A-Z]*) ([\\w ']*) [\\[\\]\\d# ]*\\(([\\w\\.]*)\\)$\"\n",
    "      message = re.search(pattern, line)\n",
    "      log_type = message.group(1)\n",
    "      log_message = message.group(2)\n",
    "      user = message.group(3)\n",
    "      log_user = (user[1:-1]).capitalize()\n",
    "      # Error count\n",
    "      if log_type == \"ERROR\":\n",
    "        if log_message not in error:\n",
    "          error[log_message] = 0\n",
    "        error[log_message] += 1\n",
    "      # User stats\n",
    "      if log_user not in per_user:\n",
    "          per_user[log_user] = {\"ERROR\": 0, \"INFO\": 0}\n",
    "      if log_type == \"ERROR\":\n",
    "          per_user[log_user][\"ERROR\"] += 1\n",
    "      elif log_type == \"INFO\":\n",
    "          per_user[log_user][\"INFO\"] += 1\n",
    " \n",
    "  # Sorting the dictionaries:\n",
    "  per_user = {k: v for k, v in sorted(per_user.items())}\n",
    "  error = {k: v for k, v in sorted(error.items(), key = lambda v: v[1], reverse=True)}\n",
    " \n",
    "  return per_user, error\n",
    " \n",
    " \n",
    "def to_csv(per_user, error):\n",
    "    with open(\"user_statistics.csv\", \"w\") as f:\n",
    "        writer = csv.writer(f)\n",
    "        writer.writerow([\"Username\",\"Error\",\"Info\"])\n",
    "        dU = per_user\n",
    "        for line in dU:\n",
    "            for key in dU:\n",
    "                writer.writerow([key, dU[key][\"ERROR\"], dU[key][\"INFO\"]])\n",
    "    with open(\"error_message.csv\", \"w\") as f:\n",
    "        writer = csv.writer(f)\n",
    "        writer.writerow([\"Error\",\"Count\"])\n",
    "        dE = error\n",
    "        for line in dE:\n",
    "            for key in dE:\n",
    "                writer.writerow([key, \"Count\"])\n",
    " \n",
    "if __name__ == \"__main__\":\n",
    "  logfile = sys.argv[1]\n",
    "  per_user, error = statistics(logfile)\n",
    "  to_csv(per_user,error)\n"
   ]
  },
  {
   "cell_type": "markdown",
   "id": "f3b65bf4",
   "metadata": {},
   "source": [
    "./csv_to_html.py error_message.csv /var/www/html/error_message.html"
   ]
  },
  {
   "cell_type": "markdown",
   "id": "48ad903c",
   "metadata": {},
   "source": [
    "./csv_to_html.py user_statistics.csv /var/www/html/user_statistics.html"
   ]
  },
  {
   "cell_type": "markdown",
   "id": "0f319fcf",
   "metadata": {},
   "source": [
    "http://34.123.144.59/error_message.html"
   ]
  },
  {
   "cell_type": "markdown",
   "id": "3c430815",
   "metadata": {},
   "source": [
    "http://34.123.144.59/user_statistics.html"
   ]
  },
  {
   "cell_type": "code",
   "execution_count": null,
   "id": "1b173782",
   "metadata": {},
   "outputs": [],
   "source": []
  },
  {
   "cell_type": "code",
   "execution_count": null,
   "id": "a826c6e2",
   "metadata": {},
   "outputs": [],
   "source": []
  }
 ],
 "metadata": {
  "kernelspec": {
   "display_name": "Python 3 (ipykernel)",
   "language": "python",
   "name": "python3"
  },
  "language_info": {
   "codemirror_mode": {
    "name": "ipython",
    "version": 3
   },
   "file_extension": ".py",
   "mimetype": "text/x-python",
   "name": "python",
   "nbconvert_exporter": "python",
   "pygments_lexer": "ipython3",
   "version": "3.9.12"
  }
 },
 "nbformat": 4,
 "nbformat_minor": 5
}
